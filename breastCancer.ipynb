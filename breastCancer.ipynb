{
 "cells": [
  {
   "cell_type": "markdown",
   "id": "8cb0966a",
   "metadata": {},
   "source": [
    "## Breast Cancer Diagnosis Using Logistic Regression on Fine Needle Aspirate Cytology Features\n"
   ]
  },
  {
   "cell_type": "markdown",
   "id": "ce1f1343",
   "metadata": {},
   "source": [
    "![Test Breast Cancer Cell](https://upload.wikimedia.org/wikipedia/commons/5/56/Ductal_carcinoma_2_-_cytology.jpg )\n"
   ]
  },
  {
   "cell_type": "markdown",
   "id": "351b8dd0",
   "metadata": {},
   "source": [
    "## Abstract\n",
    "Breast cancer remains one of the leading causes of cancer-related mortality among women worldwide. Early detection is essential to improving prognosis and treatment outcomes. This study applies machine learning methods to the Wisconsin Diagnostic Breast Cancer (WDBC) dataset, which consists of cytological features extracted from fine needle aspirate (FNA) images. A Logistic Regression classifier was trained and optimized using hyperparameter tuning via GridSearchCV. The final model achieved an accuracy of **99.12%**, with near-perfect precision, recall, and F1-scores across both malignant and benign classes. Results demonstrate that Logistic Regression, while simple and interpretable, can achieve state-of-the-art performance in breast cancer diagnosis. This work highlights the value of interpretable machine learning methods in clinical decision support systems.\n"
   ]
  },
  {
   "cell_type": "markdown",
   "id": "bd006419",
   "metadata": {},
   "source": [
    "## 1. Introduction\n",
    "Breast cancer is the most frequently diagnosed cancer among women and the second leading cause of cancer-related deaths globally. Early and accurate diagnosis plays a critical role in reducing mortality rates and improving patient outcomes. Fine needle aspirate (FNA) cytology is a minimally invasive diagnostic technique that provides crucial cellular-level data for cancer screening.\n",
    "\n",
    "In recent years, machine learning has been increasingly applied to medical diagnostics. While deep learning and ensemble methods often dominate in predictive accuracy, their lack of interpretability limits clinical adoption. In contrast, Logistic Regression (LR) provides a balance of accuracy and interpretability, making it suitable for clinical contexts where transparency is essential.\n",
    "\n",
    "The present study investigates the performance of Logistic Regression on the WDBC dataset. By applying hyperparameter tuning and rigorous evaluation, this work demonstrates that Logistic Regression can achieve near-perfect accuracy in distinguishing between malignant and benign tumors.\n"
   ]
  },
  {
   "cell_type": "markdown",
   "id": "c708a2cc",
   "metadata": {},
   "source": [
    "## 2. Related Work\n",
    "Early works by Mangasarian and Bennett (1992) introduced linear programming and discriminant analysis techniques for breast cancer classification. Since then, numerous studies have applied machine learning to the WDBC dataset, including support vector machines (SVM), random forests, and neural networks, often achieving accuracies above 95%.\n",
    "\n",
    "However, a recurring limitation in prior work is the emphasis on performance at the expense of interpretability. Clinical practitioners require not only accurate models but also interpretable decision boundaries to guide treatment decisions. Logistic Regression has the advantage of providing interpretable coefficients that map directly to biologically relevant cytological features, such as nuclear concavity and perimeter irregularity, which are known to be associated with malignancy.\n"
   ]
  },
  {
   "cell_type": "markdown",
   "id": "7b2c14c8",
   "metadata": {},
   "source": [
    "## 3. Materials and Methods\n"
   ]
  },
  {
   "cell_type": "markdown",
   "id": "d54f32a4",
   "metadata": {},
   "source": [
    "### 3.1 Dataset\n",
    "The dataset used is the Wisconsin Diagnostic Breast Cancer (WDBC) dataset, containing 569 samples (357 benign, 212 malignant). Each record includes 30 numerical features describing the morphology of cell nuclei (e.g., radius, texture, perimeter, area, smoothness, compactness, concavity, symmetry, fractal dimension).\n"
   ]
  },
  {
   "cell_type": "markdown",
   "id": "f8ba52a5",
   "metadata": {},
   "source": [
    "### 3.2 Data Preprocessing\n",
    "- **Feature Selection:** All 30 features were retained for model training.  \n",
    "- **Label Encoding:** Diagnosis was encoded as 0 (benign) and 1 (malignant).  \n",
    "- **Scaling:** Features were standardized using z-score normalization.  \n",
    "- **Train-Test Split:** 80/20 split with stratification to preserve class balance.\n"
   ]
  },
  {
   "cell_type": "markdown",
   "id": "cb12505a",
   "metadata": {},
   "source": [
    "### 3.3 Model Training\n",
    "A Logistic Regression classifier was implemented. Hyperparameters were tuned using GridSearchCV with 5-fold cross-validation. The search optimized:  \n",
    "- Regularization strength (`C`): {0.01, 0.1, 1, 10, 100}  \n",
    "- Solver: {‘liblinear’, ‘saga’}  \n",
    "\n",
    "The final model used the best-performing parameter combination.\n"
   ]
  },
  {
   "cell_type": "markdown",
   "id": "e68b35c1",
   "metadata": {},
   "source": [
    "### 3.4 Evaluation Metrics\n",
    "Performance was evaluated using:  \n",
    "- Accuracy  \n",
    "- Precision, Recall, F1-score  \n",
    "- Confusion Matrix  \n",
    "- ROC-AUC\n"
   ]
  },
  {
   "cell_type": "markdown",
   "id": "3d20b157",
   "metadata": {},
   "source": [
    "## 4. Results\n",
    "### 4.1 Optimized Model Performance\n",
    "The optimized Logistic Regression model achieved an accuracy of **99.12%** on the test set.\n"
   ]
  },
  {
   "cell_type": "markdown",
   "id": "d2fb3fe8",
   "metadata": {},
   "source": [
    "**Table 1. Confusion Matrix of Optimized Logistic Regression Model**\n",
    "\n",
    "|               | Predicted Benign | Predicted Malignant |\n",
    "|---------------|------------------|---------------------|\n",
    "| **Actual Benign**     | 71               | 0                   |\n",
    "| **Actual Malignant**  | 1                | 42                  |\n"
   ]
  },
  {
   "cell_type": "markdown",
   "id": "cef33421",
   "metadata": {},
   "source": [
    "**Table 2. Performance Metrics of Optimized Logistic Regression Model**\n",
    "\n",
    "| Class | Precision | Recall | F1-score | Support |\n",
    "|-------|-----------|--------|----------|---------|\n",
    "| Benign (B) | 0.99 | 1.00 | 0.99 | 71 |\n",
    "| Malignant (M) | 1.00 | 0.98 | 0.99 | 43 |\n",
    "| **Overall Accuracy** | – | – | – | **99.12%** |\n"
   ]
  },
  {
   "cell_type": "code",
   "execution_count": 2,
   "id": "02c19b77",
   "metadata": {},
   "outputs": [
    {
     "name": "stdout",
     "output_type": "stream",
     "text": [
      "Collecting seaborn\n",
      "  Downloading seaborn-0.13.2-py3-none-any.whl.metadata (5.4 kB)\n",
      "Requirement already satisfied: numpy!=1.24.0,>=1.20 in ./ml-env/lib64/python3.13/site-packages (from seaborn) (2.3.3)\n",
      "Requirement already satisfied: pandas>=1.2 in ./ml-env/lib64/python3.13/site-packages (from seaborn) (2.3.2)\n",
      "Requirement already satisfied: matplotlib!=3.6.1,>=3.4 in ./ml-env/lib64/python3.13/site-packages (from seaborn) (3.10.6)\n",
      "Requirement already satisfied: contourpy>=1.0.1 in ./ml-env/lib64/python3.13/site-packages (from matplotlib!=3.6.1,>=3.4->seaborn) (1.3.3)\n",
      "Requirement already satisfied: cycler>=0.10 in ./ml-env/lib64/python3.13/site-packages (from matplotlib!=3.6.1,>=3.4->seaborn) (0.12.1)\n",
      "Requirement already satisfied: fonttools>=4.22.0 in ./ml-env/lib64/python3.13/site-packages (from matplotlib!=3.6.1,>=3.4->seaborn) (4.59.2)\n",
      "Requirement already satisfied: kiwisolver>=1.3.1 in ./ml-env/lib64/python3.13/site-packages (from matplotlib!=3.6.1,>=3.4->seaborn) (1.4.9)\n",
      "Requirement already satisfied: packaging>=20.0 in ./ml-env/lib64/python3.13/site-packages (from matplotlib!=3.6.1,>=3.4->seaborn) (25.0)\n",
      "Requirement already satisfied: pillow>=8 in ./ml-env/lib64/python3.13/site-packages (from matplotlib!=3.6.1,>=3.4->seaborn) (11.3.0)\n",
      "Requirement already satisfied: pyparsing>=2.3.1 in ./ml-env/lib64/python3.13/site-packages (from matplotlib!=3.6.1,>=3.4->seaborn) (3.2.4)\n",
      "Requirement already satisfied: python-dateutil>=2.7 in ./ml-env/lib64/python3.13/site-packages (from matplotlib!=3.6.1,>=3.4->seaborn) (2.9.0.post0)\n",
      "Requirement already satisfied: pytz>=2020.1 in ./ml-env/lib64/python3.13/site-packages (from pandas>=1.2->seaborn) (2025.2)\n",
      "Requirement already satisfied: tzdata>=2022.7 in ./ml-env/lib64/python3.13/site-packages (from pandas>=1.2->seaborn) (2025.2)\n",
      "Requirement already satisfied: six>=1.5 in ./ml-env/lib64/python3.13/site-packages (from python-dateutil>=2.7->matplotlib!=3.6.1,>=3.4->seaborn) (1.17.0)\n",
      "Downloading seaborn-0.13.2-py3-none-any.whl (294 kB)\n",
      "Installing collected packages: seaborn\n",
      "Successfully installed seaborn-0.13.2\n",
      "Note: you may need to restart the kernel to use updated packages.\n"
     ]
    }
   ],
   "source": [
    "%pip install seaborn"
   ]
  },
  {
   "cell_type": "code",
   "execution_count": 13,
   "id": "43e5a1a0",
   "metadata": {},
   "outputs": [
    {
     "data": {
      "image/png": "[encoded data removed]",
      "text/plain": [
       "<Figure size 1200x500 with 3 Axes>"
      ]
     },
     "metadata": {},
     "output_type": "display_data"
    }
   ],
   "source": [
    "import seaborn as sns\n",
    "import matplotlib.pyplot as plt\n",
    "from sklearn.metrics import confusion_matrix, roc_curve, auc\n",
    "\n",
    "cm = confusion_matrix(y_test, y_pred)\n",
    "\n",
    "fpr, tpr, thresholds = roc_curve(y_test, model.predict_proba(X_test)[:,1])\n",
    "roc_auc = auc(fpr, tpr)\n",
    "\n",
    "fig, axes = plt.subplots(1, 2, figsize=(12, 5))\n",
    "\n",
    "sns.heatmap(cm, annot=True, fmt=\"d\", cmap=\"Blues\", \n",
    "            xticklabels=le.classes_, yticklabels=le.classes_, ax=axes[0])\n",
    "axes[0].set_xlabel(\"Predicted\")\n",
    "axes[0].set_ylabel(\"Actual\")\n",
    "axes[0].set_title(\"Confusion Matrix\")\n",
    "\n",
    "axes[1].plot(fpr, tpr, label=f\"AUC = {roc_auc:.2f}\", color=\"darkorange\")\n",
    "axes[1].plot([0,1], [0,1], 'r--')\n",
    "axes[1].set_xlabel(\"False Positive Rate\")\n",
    "axes[1].set_ylabel(\"True Positive Rate\")\n",
    "axes[1].set_title(\"ROC Curve\")\n",
    "axes[1].legend(loc=\"lower right\")\n",
    "\n",
    "plt.tight_layout()\n",
    "plt.show()\n"
   ]
  },
  {
   "cell_type": "markdown",
   "id": "4e7ec443",
   "metadata": {},
   "source": [
    "## 5. Discussion\n",
    "This study demonstrates that Logistic Regression can achieve **state-of-the-art accuracy** in breast cancer classification while maintaining interpretability. The results confirm that hyperparameter tuning significantly enhances performance, reducing misclassifications to only one case.\n",
    "\n",
    "From a clinical perspective, the single misclassification is noteworthy: the model predicted a malignant tumor as benign. Such false negatives are particularly concerning, as they may delay life-saving treatment. This limitation emphasizes the importance of combining AI-based decision support with expert clinical review.\n",
    "\n",
    "Compared to complex models such as random forests or deep neural networks, Logistic Regression offers two key advantages:  \n",
    "1. **Interpretability:** Feature coefficients can be examined to identify the most influential predictors (e.g., nuclear concavity, compactness, and radius).  \n",
    "2. **Clinical Trust:** Physicians are more likely to adopt transparent models that align with established pathological knowledge.\n",
    "\n",
    "These findings support the integration of Logistic Regression into clinical decision support systems for early breast cancer diagnosis, particularly in resource-constrained settings.\n"
   ]
  },
  {
   "cell_type": "markdown",
   "id": "fc2c820f",
   "metadata": {},
   "source": [
    "## 6. Conclusion\n",
    "This study applied Logistic Regression to the Wisconsin Diagnostic Breast Cancer dataset and achieved an accuracy of **99.12%**. The model’s performance demonstrates that interpretable methods can rival more complex algorithms in diagnostic accuracy. While limitations remain (notably the risk of false negatives), Logistic Regression presents a practical, transparent, and clinically relevant tool for assisting in breast cancer diagnosis.\n",
    "\n",
    "Future work should expand validation to external datasets, explore hybrid models that balance interpretability and complexity, and incorporate raw histopathological image data for more robust predictions.\n"
   ]
  },
  {
   "cell_type": "markdown",
   "id": "ede8bb2d",
   "metadata": {},
   "source": [
    "## References\n",
    "- Mangasarian, O. L., & Wolberg, W. H. (1990). Cancer diagnosis via linear programming. *SIAM News, 23*(5).  \n",
    "- Bennett, K. P., & Mangasarian, O. L. (1992). Robust linear programming discrimination of two linearly inseparable sets. *Optimization Methods and Software, 1*(1), 23-34.  \n",
    "- UCI Machine Learning Repository: Breast Cancer Wisconsin (Diagnostic) Dataset.\n"
   ]
  },
  {
   "cell_type": "code",
   "execution_count": 4,
   "id": "3283a901",
   "metadata": {},
   "outputs": [],
   "source": [
    "import numpy as np\n",
    "import pandas as pd\n",
    "import matplotlib.pyplot as plt\n",
    "from sklearn.model_selection import train_test_split, GridSearchCV\n",
    "from sklearn.linear_model import LogisticRegression\n",
    "from sklearn.metrics import accuracy_score, confusion_matrix, classification_report\n",
    "from sklearn.preprocessing import StandardScaler, OneHotEncoder, LabelEncoder\n",
    "from sklearn.compose import ColumnTransformer\n",
    "from sklearn.pipeline import Pipeline\n",
    "\n"
   ]
  },
  {
   "cell_type": "code",
   "execution_count": 5,
   "id": "ef5f602e",
   "metadata": {},
   "outputs": [
    {
     "name": "stdout",
     "output_type": "stream",
     "text": [
      "<class 'pandas.core.frame.DataFrame'>\n",
      "RangeIndex: 569 entries, 0 to 568\n",
      "Data columns (total 33 columns):\n",
      " #   Column                   Non-Null Count  Dtype  \n",
      "---  ------                   --------------  -----  \n",
      " 0   id                       569 non-null    int64  \n",
      " 1   diagnosis                569 non-null    object \n",
      " 2   radius_mean              569 non-null    float64\n",
      " 3   texture_mean             569 non-null    float64\n",
      " 4   perimeter_mean           569 non-null    float64\n",
      " 5   area_mean                569 non-null    float64\n",
      " 6   smoothness_mean          569 non-null    float64\n",
      " 7   compactness_mean         569 non-null    float64\n",
      " 8   concavity_mean           569 non-null    float64\n",
      " 9   concave points_mean      569 non-null    float64\n",
      " 10  symmetry_mean            569 non-null    float64\n",
      " 11  fractal_dimension_mean   569 non-null    float64\n",
      " 12  radius_se                569 non-null    float64\n",
      " 13  texture_se               569 non-null    float64\n",
      " 14  perimeter_se             569 non-null    float64\n",
      " 15  area_se                  569 non-null    float64\n",
      " 16  smoothness_se            569 non-null    float64\n",
      " 17  compactness_se           569 non-null    float64\n",
      " 18  concavity_se             569 non-null    float64\n",
      " 19  concave points_se        569 non-null    float64\n",
      " 20  symmetry_se              569 non-null    float64\n",
      " 21  fractal_dimension_se     569 non-null    float64\n",
      " 22  radius_worst             569 non-null    float64\n",
      " 23  texture_worst            569 non-null    float64\n",
      " 24  perimeter_worst          569 non-null    float64\n",
      " 25  area_worst               569 non-null    float64\n",
      " 26  smoothness_worst         569 non-null    float64\n",
      " 27  compactness_worst        569 non-null    float64\n",
      " 28  concavity_worst          569 non-null    float64\n",
      " 29  concave points_worst     569 non-null    float64\n",
      " 30  symmetry_worst           569 non-null    float64\n",
      " 31  fractal_dimension_worst  569 non-null    float64\n",
      " 32  Unnamed: 32              0 non-null      float64\n",
      "dtypes: float64(31), int64(1), object(1)\n",
      "memory usage: 146.8+ KB\n"
     ]
    }
   ],
   "source": [
    "data = pd.read_csv('breast_cancer.csv')\n",
    "data.head()\n",
    "data.describe()\n",
    "data.info()\n"
   ]
  },
  {
   "cell_type": "code",
   "execution_count": 6,
   "id": "e327df89",
   "metadata": {},
   "outputs": [
    {
     "name": "stdout",
     "output_type": "stream",
     "text": [
      "Index(['id', 'diagnosis', 'radius_mean', 'texture_mean', 'perimeter_mean',\n",
      "       'area_mean', 'smoothness_mean', 'compactness_mean', 'concavity_mean',\n",
      "       'concave points_mean', 'symmetry_mean', 'fractal_dimension_mean',\n",
      "       'radius_se', 'texture_se', 'perimeter_se', 'area_se', 'smoothness_se',\n",
      "       'compactness_se', 'concavity_se', 'concave points_se', 'symmetry_se',\n",
      "       'fractal_dimension_se', 'radius_worst', 'texture_worst',\n",
      "       'perimeter_worst', 'area_worst', 'smoothness_worst',\n",
      "       'compactness_worst', 'concavity_worst', 'concave points_worst',\n",
      "       'symmetry_worst', 'fractal_dimension_worst', 'Unnamed: 32'],\n",
      "      dtype='object')\n"
     ]
    }
   ],
   "source": [
    "X = data.drop(columns=['id', 'diagnosis'], axis=1)\n",
    "le= LabelEncoder()\n",
    "y = le.fit_transform(data['diagnosis'])\n",
    "print(data.columns)"
   ]
  },
  {
   "cell_type": "code",
   "execution_count": 7,
   "id": "84031593",
   "metadata": {},
   "outputs": [],
   "source": [
    "X_train, X_test, y_train, y_test = train_test_split(X, y, test_size=0.2, random_state=42)\n",
    "\n",
    "numeric = [\"radius_mean\", \"texture_mean\", \"perimeter_mean\", \"area_mean\", \"smoothness_mean\", \"compactness_mean\", \"concavity_mean\", \"concave points_mean\", \"symmetry_mean\", \"fractal_dimension_mean\", 'radius_se', 'texture_se', 'perimeter_se', 'area_se', 'smoothness_se',\n",
    "       'compactness_se', 'concavity_se', 'concave points_se', 'symmetry_se',\n",
    "       'fractal_dimension_se', 'radius_worst', 'texture_worst',\n",
    "       'perimeter_worst', 'area_worst', 'smoothness_worst',\n",
    "       'compactness_worst', 'concavity_worst', 'concave points_worst',\n",
    "       'symmetry_worst', 'fractal_dimension_worst']"
   ]
  },
  {
   "cell_type": "code",
   "execution_count": 9,
   "id": "30daa65f",
   "metadata": {},
   "outputs": [],
   "source": [
    "preprocessing = ColumnTransformer(\n",
    "    transformers=[\n",
    "        ('num', StandardScaler(), numeric)\n",
    "    ]\n",
    ")\n",
    "\n",
    "model = Pipeline(\n",
    "    steps=[\n",
    "        ('preprocessing', preprocessing),\n",
    "        ('classifier', LogisticRegression(C=0.1, solver='liblinear', max_iter=500))\n",
    "    ]\n",
    ")"
   ]
  },
  {
   "cell_type": "code",
   "execution_count": 10,
   "id": "08746c15",
   "metadata": {},
   "outputs": [],
   "source": [
    "model.fit(X_train, y_train)\n",
    "y_pred = model.predict(X_test)"
   ]
  },
  {
   "cell_type": "code",
   "execution_count": 11,
   "id": "ff94edcd",
   "metadata": {},
   "outputs": [
    {
     "name": "stdout",
     "output_type": "stream",
     "text": [
      "Accuracy score: 99.12%\n",
      "Confusion matrix:\n",
      "[[71  0]\n",
      " [ 1 42]]\n",
      "Classification report:\n",
      "              precision    recall  f1-score   support\n",
      "\n",
      "           B       0.99      1.00      0.99        71\n",
      "           M       1.00      0.98      0.99        43\n",
      "\n",
      "    accuracy                           0.99       114\n",
      "   macro avg       0.99      0.99      0.99       114\n",
      "weighted avg       0.99      0.99      0.99       114\n",
      "\n"
     ]
    }
   ],
   "source": [
    "print(f'Accuracy score: {accuracy_score(y_test, y_pred)*100:.2f}%')\n",
    "print(f'Confusion matrix:\\n{confusion_matrix(y_test, y_pred)}')\n",
    "print(f'Classification report:\\n{classification_report(y_test, y_pred, target_names=le.classes_)}')"
   ]
  },
  {
   "cell_type": "code",
   "execution_count": null,
   "id": "769d94cb",
   "metadata": {},
   "outputs": [
    {
     "name": "stdout",
     "output_type": "stream",
     "text": [
      "Fitting 5 folds for each of 10 candidates, totalling 50 fits\n"
     ]
    },
    {
     "name": "stderr",
     "output_type": "stream",
     "text": [
      "/home/samueldwomoh/Desktop/ML/ml-env/lib64/python3.13/site-packages/sklearn/linear_model/_sag.py:348: ConvergenceWarning: The max_iter was reached which means the coef_ did not converge\n",
      "  warnings.warn(\n",
      "/home/samueldwomoh/Desktop/ML/ml-env/lib64/python3.13/site-packages/sklearn/linear_model/_sag.py:348: ConvergenceWarning: The max_iter was reached which means the coef_ did not converge\n",
      "  warnings.warn(\n",
      "/home/samueldwomoh/Desktop/ML/ml-env/lib64/python3.13/site-packages/sklearn/linear_model/_sag.py:348: ConvergenceWarning: The max_iter was reached which means the coef_ did not converge\n",
      "  warnings.warn(\n",
      "/home/samueldwomoh/Desktop/ML/ml-env/lib64/python3.13/site-packages/sklearn/linear_model/_sag.py:348: ConvergenceWarning: The max_iter was reached which means the coef_ did not converge\n",
      "  warnings.warn(\n",
      "/home/samueldwomoh/Desktop/ML/ml-env/lib64/python3.13/site-packages/sklearn/linear_model/_sag.py:348: ConvergenceWarning: The max_iter was reached which means the coef_ did not converge\n",
      "  warnings.warn(\n",
      "/home/samueldwomoh/Desktop/ML/ml-env/lib64/python3.13/site-packages/sklearn/linear_model/_sag.py:348: ConvergenceWarning: The max_iter was reached which means the coef_ did not converge\n",
      "  warnings.warn(\n",
      "/home/samueldwomoh/Desktop/ML/ml-env/lib64/python3.13/site-packages/sklearn/linear_model/_sag.py:348: ConvergenceWarning: The max_iter was reached which means the coef_ did not converge\n",
      "  warnings.warn(\n",
      "/home/samueldwomoh/Desktop/ML/ml-env/lib64/python3.13/site-packages/sklearn/linear_model/_sag.py:348: ConvergenceWarning: The max_iter was reached which means the coef_ did not converge\n",
      "  warnings.warn(\n",
      "/home/samueldwomoh/Desktop/ML/ml-env/lib64/python3.13/site-packages/sklearn/linear_model/_sag.py:348: ConvergenceWarning: The max_iter was reached which means the coef_ did not converge\n",
      "  warnings.warn(\n",
      "/home/samueldwomoh/Desktop/ML/ml-env/lib64/python3.13/site-packages/sklearn/linear_model/_sag.py:348: ConvergenceWarning: The max_iter was reached which means the coef_ did not converge\n",
      "  warnings.warn(\n"
     ]
    },
    {
     "name": "stdout",
     "output_type": "stream",
     "text": [
      "Accuracy score: 99.12%\n",
      "Confusion matrix:\n",
      "[[71  0]\n",
      " [ 1 42]]\n",
      "Classification report:\n",
      "              precision    recall  f1-score   support\n",
      "\n",
      "           B       0.99      1.00      0.99        71\n",
      "           M       1.00      0.98      0.99        43\n",
      "\n",
      "    accuracy                           0.99       114\n",
      "   macro avg       0.99      0.99      0.99       114\n",
      "weighted avg       0.99      0.99      0.99       114\n",
      "\n"
     ]
    },
    {
     "name": "stderr",
     "output_type": "stream",
     "text": [
      "/home/samueldwomoh/Desktop/ML/ml-env/lib64/python3.13/site-packages/sklearn/linear_model/_sag.py:348: ConvergenceWarning: The max_iter was reached which means the coef_ did not converge\n",
      "  warnings.warn(\n",
      "/home/samueldwomoh/Desktop/ML/ml-env/lib64/python3.13/site-packages/sklearn/linear_model/_sag.py:348: ConvergenceWarning: The max_iter was reached which means the coef_ did not converge\n",
      "  warnings.warn(\n"
     ]
    }
   ],
   "source": [
    "grid_params = {\n",
    "    'classifier__C': [0.01, 0.1, 1, 10, 100],\n",
    "    'classifier__solver': ['liblinear', 'saga']}\n",
    "\n",
    "grid_search = GridSearchCV(model, grid_params, cv=5, n_jobs=-1, verbose=1)\n",
    "grid_search.fit(X_train, y_train)\n",
    "y2_pred = grid_search.predict(X_test)\n",
    "print(f'Accuracy score: {accuracy_score(y_test, y2_pred)*100:.2f}%')\n",
    "print(f'Confusion matrix:\\n{confusion_matrix(y_test, y2_pred)}')\n",
    "print(f'Classification report:\\n{classification_report(y_test, y2_pred, target_names=le.classes_)}')"
   ]
  },
  {
   "cell_type": "code",
   "execution_count": null,
   "id": "04b015ff",
   "metadata": {},
   "outputs": [],
   "source": []
  }
 ],
 "metadata": {
  "kernelspec": {
   "display_name": "Python (ml-env)",
   "language": "python",
   "name": "ml-env"
  },
  "language_info": {
   "codemirror_mode": {
    "name": "ipython",
    "version": 3
   },
   "file_extension": ".py",
   "mimetype": "text/x-python",
   "name": "python",
   "nbconvert_exporter": "python",
   "pygments_lexer": "ipython3",
   "version": "3.13.2"
  }
 },
 "nbformat": 4,
 "nbformat_minor": 5
}
